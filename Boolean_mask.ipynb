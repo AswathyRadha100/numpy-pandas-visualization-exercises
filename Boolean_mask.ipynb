{
 "cells": [
  {
   "cell_type": "markdown",
   "id": "ba218b5b",
   "metadata": {},
   "source": [
    "# Goal:- Explore boolean Mask , .str attribute, Plot data from a Pandas Series\n",
    "\n"
   ]
  },
  {
   "cell_type": "markdown",
   "id": "b1208a1f",
   "metadata": {},
   "source": [
    "## Boolean Mask"
   ]
  },
  {
   "cell_type": "markdown",
   "id": "619f471d",
   "metadata": {},
   "source": [
    "### A boolean mask is a binary array or Series that serves as a filter to select specific elements from a data structure (like a Pandas Series or DataFrame) based on a set of conditions.It is a technique used to create a binary array or Series of boolean values (True or False) that is used to filter or subset data in pandas. It is essentially an array of boolean values (True or False) that has the same length as the data structure it is applied to. The True values in the mask indicate the positions of the elements that satisfy the given condition(s), and the False values indicate the positions of the elements that do not satisfy the condition(s). Boolean masks are commonly used in data analysis and manipulation tasks to perform various filtering operations, such as selecting rows that satisfy specific criteria, extracting values that meet certain conditions, or replacing values based on certain rules."
   ]
  },
  {
   "cell_type": "markdown",
   "id": "2ec55df0",
   "metadata": {},
   "source": [
    "### Create a boolean mask 'mask' where each element in the Series greater than 30 will be set to True, and the elements less than or equal to 30 will be set to False. Then, apply this mask to the original Series 'series', resulting in a new Series subset_series that contains only the elements greater than 30."
   ]
  },
  {
   "cell_type": "code",
   "execution_count": null,
   "id": "a36c1798",
   "metadata": {},
   "outputs": [],
   "source": [
    "import pandas as pd\n",
    "\n",
    "# Sample data\n",
    "data = [10, 20, 30, 40, 50]\n",
    "series = pd.Series(data)\n",
    "\n",
    "# Create a boolean mask to select elements greater than 30\n",
    "mask = series > 30\n",
    "\n",
    "# Applying the mask to the Series\n",
    "subset_series = series[mask]\n",
    "\n",
    "print(mask)\n",
    "# Output: [False False False  True  True]\n",
    "\n",
    "print(subset_series)\n",
    "# Output:\n",
    "# 3    40\n",
    "# 4    50\n",
    "# dtype: int64\n"
   ]
  },
  {
   "cell_type": "markdown",
   "id": "e39ed956",
   "metadata": {},
   "source": [
    "###  The length of the mask should match the length of the Series to ensure that the mask aligns properly with the elements in the Series"
   ]
  },
  {
   "cell_type": "code",
   "execution_count": null,
   "id": "52fd645e",
   "metadata": {
    "lines_to_next_cell": 2
   },
   "outputs": [],
   "source": [
    "# Example of an incorrect mask \n",
    "import pandas as pd\n",
    "\n",
    "data = [10, 20, 30, 40, 50]\n",
    "series = pd.Series(data)\n",
    "\n",
    "# Incorrect mask with a different length\n",
    "incorrect_mask = [True, False, True, False]  # here,length is 4 \n",
    "#Hence, ValueError: boolean index did not match indexed array\n",
    "#dimension is 5 but corresponding boolean dimension is 4\n",
    "\n",
    "# Applying the incorrect mask to the Series will raise an error\n",
    "subset_series = series[incorrect_mask]"
   ]
  },
  {
   "cell_type": "code",
   "execution_count": null,
   "id": "cca081df",
   "metadata": {},
   "outputs": [],
   "source": [
    "#corrected mask with the same length as the Series\n",
    "import pandas as pd\n",
    "\n",
    "data = [10, 20, 30, 40, 50]  # Length 5\n",
    "series = pd.Series(data)\n",
    "\n",
    "# Correct mask with the same length as the Series\n",
    "correct_mask = [True, False, True, False, True]  # Length 5\n",
    "\n",
    "# Applying the correct mask to the Series\n",
    "subset_series = series[correct_mask]\n",
    "\n",
    "print(subset_series)\n"
   ]
  },
  {
   "cell_type": "markdown",
   "id": "a93b2ca8",
   "metadata": {},
   "source": [
    "## .str attribute "
   ]
  },
  {
   "cell_type": "markdown",
   "id": "43339b73",
   "metadata": {},
   "source": [
    "\n",
    "### The .str attribute  provides a convenient and powerful way to handle string data in a pandas Series, making it easier to clean, process, and manipulate text-based information.\n",
    "\n"
   ]
  },
  {
   "cell_type": "markdown",
   "id": "bcb8c196",
   "metadata": {
    "lines_to_next_cell": 2
   },
   "source": [
    " Some commonly used string methods available through the .str attribute include:\n",
    " \n",
    "1. Lowercase and Uppercase Operations:\n",
    "\n",
    ".str.lower(): Converts all the characters in the strings to lowercase.\n",
    ".str.upper(): Converts all the characters in the strings to uppercase."
   ]
  },
  {
   "cell_type": "markdown",
   "id": "f5b5dfdb",
   "metadata": {
    "lines_to_next_cell": 2
   },
   "source": [
    "2.String Length:\n",
    "\n",
    ".str.len(): Returns the length of each string in the Series."
   ]
  },
  {
   "cell_type": "markdown",
   "id": "289a9e17",
   "metadata": {
    "lines_to_next_cell": 2
   },
   "source": [
    "3. String Concatenation:\n",
    "\n",
    ".str.cat(): Concatenates strings in the Series with a specified separator."
   ]
  },
  {
   "cell_type": "markdown",
   "id": "558b4b89",
   "metadata": {
    "lines_to_next_cell": 2
   },
   "source": [
    "4. Substrings and Slicing:\n",
    "\n",
    ".str.slice(): Extracts a substring from each string based on the provided start and end positions.\n",
    ".str.split(): Splits each string into multiple substrings based on a separator.\n",
    ".str.extract(): Extracts substrings using regular expressions."
   ]
  },
  {
   "cell_type": "markdown",
   "id": "a64290df",
   "metadata": {
    "lines_to_next_cell": 2
   },
   "source": [
    "5. String Replace:\n",
    "\n",
    ".str.replace(): Replaces substrings in each string with another substring."
   ]
  },
  {
   "cell_type": "markdown",
   "id": "f3b724a2",
   "metadata": {
    "lines_to_next_cell": 2
   },
   "source": [
    "6. String Strip:\n",
    "\n",
    ".str.strip(): Removes leading and trailing whitespace from each string.\n",
    ".str.lstrip(): Removes leading whitespace from each string.\n",
    ".str.rstrip(): Removes trailing whitespace from each string."
   ]
  },
  {
   "cell_type": "markdown",
   "id": "1aceb2bb",
   "metadata": {
    "lines_to_next_cell": 2
   },
   "source": [
    "7. String Search and Count:\n",
    "\n",
    ".str.contains(): Checks if a substring is present in each string and returns a boolean mask.\n",
    ".str.startswith(): Checks if each string starts with a specified substring and returns a boolean mask.\n",
    ".str.endswith(): Checks if each string ends with a specified substring and returns a boolean mask.\n",
    ".str.count(): Counts the occurrences of a substring in each string."
   ]
  },
  {
   "cell_type": "code",
   "execution_count": null,
   "id": "3bccea42",
   "metadata": {},
   "outputs": [],
   "source": [
    "#Example to demonstrate some of these string methods\n",
    "import pandas as pd\n",
    "\n",
    "# Sample data with strings\n",
    "data = ['apple', 'banana', 'orange', 'kiwi', 'grape']\n",
    "series = pd.Series(data)\n",
    "\n",
    "# String manipulation using the .str attribute\n",
    "print(series.str.upper())\n",
    "print(series.str.len())\n",
    "print(series.str.cat(sep=' | '))\n",
    "print(series.str.slice(start=1, stop=4))\n",
    "print(series.str.replace('a', 'X'))\n",
    "print(series.str.strip())\n",
    "print(series.str.contains('an'))\n",
    "print(series.str.count('a'))\n"
   ]
  },
  {
   "cell_type": "markdown",
   "id": "c6692f51",
   "metadata": {},
   "source": [
    "# Plot data from a series"
   ]
  },
  {
   "cell_type": "markdown",
   "id": "98e56a4b",
   "metadata": {},
   "source": [
    "### To plot data from a pandas Series, you can use the matplotlib library, which is integrated with pandas for data visualization. Any plot created by pandas is a Matplotlib object.To use different plot types, you would use different functions provided by matplotlib, such as \n",
    "### plt.plot(), \n",
    "### plt.bar(), \n",
    "### plt.pie(), \n",
    "### plt.scatter() , etc.\n"
   ]
  },
  {
   "cell_type": "markdown",
   "id": "504f923f",
   "metadata": {},
   "source": [
    "## plt.plot()\n",
    "\n",
    "### plt.plot() is used to create line plots in matplotlib. It is one of the most commonly used functions for visualizing one-dimensional data, such as time series or continuous data points. The function takes the x-axis values and y-axis values as its input and plots a line connecting the data points."
   ]
  },
  {
   "cell_type": "code",
   "execution_count": null,
   "id": "f19528a5",
   "metadata": {},
   "outputs": [],
   "source": [
    "#Line Plot example\n",
    "import pandas as pd\n",
    "import matplotlib.pyplot as plt\n",
    "\n",
    "# Sample data for the Series\n",
    "data = [10, 20, 30, 40, 50]\n",
    "series = pd.Series(data)\n",
    "\n",
    "# Line Plot\n",
    "plt.plot(series.index, series.values, marker='o', linestyle='-')\n",
    "plt.xlabel('Index')\n",
    "plt.ylabel('Values')\n",
    "plt.title('Line Plot of the Series')\n",
    "plt.show() # displays the plot\n",
    "\n",
    "\n",
    "# series.index represents the x-axis values of the plot\n",
    "# series.values represents the y-axis values of the plot\n",
    "# marker='o'indicates that the data points will be represented as circles\n",
    "# linestyle='-' indicates that a solid line will be connecting the data points"
   ]
  },
  {
   "cell_type": "markdown",
   "id": "ee0703ea",
   "metadata": {},
   "source": [
    "## plt.bar()\n",
    "\n",
    "### plt.bar() is a function in matplotlib used to create bar plots, which are used to display categorical data with rectangular bars of varying heights. Bar plots are commonly used to compare and visualize the distribution or relationship between different categories of data."
   ]
  },
  {
   "cell_type": "markdown",
   "id": "125a59c3",
   "metadata": {},
   "source": [
    "### plt.bar() Parameters:\n",
    "\n",
    "#### categories: The categories or labels for the bars. These can be a list of strings or any iterable representing the categorical data.\n",
    "\n",
    "#### values: The values corresponding to each category. These can be a list, array, or pandas Series representing the numerical data.\n",
    "\n",
    "#### color: (Optional) Specifies the color of the bars.\n",
    "\n",
    "#### width: (Optional) Specifies the width of the bars as a fraction of the total width of each group of bars.\n",
    "\n",
    "#### align: (Optional) Specifies how the bars are aligned relative to the category labels. The default is 'center'.\n",
    "\n",
    "#### label: (Optional) A label for the data series, useful for creating a legend.\n",
    "\n",
    "\n"
   ]
  },
  {
   "cell_type": "code",
   "execution_count": null,
   "id": "9d33fe17",
   "metadata": {},
   "outputs": [],
   "source": [
    "import matplotlib.pyplot as plt\n",
    "\n",
    "# Sample data for the bar plot\n",
    "categories = ['Category A', 'Category B', 'Category C', 'Category D']\n",
    "values = [20, 35, 30, 25]\n",
    "\n",
    "# Creating the bar plot\n",
    "plt.bar(categories, values, color='g', width=0., align='center', label='Data Series')\n",
    "\n",
    "# Adding labels and title\n",
    "plt.xlabel('Categories')\n",
    "plt.ylabel('Values')\n",
    "plt.title('Bar Plot Example')\n",
    "plt.legend()\n",
    "\n",
    "# Displaying the plot\n",
    "plt.show()\n",
    "\n",
    "\n",
    "#The bars are centered on each category label (align='center')"
   ]
  }
 ],
 "metadata": {
  "kernelspec": {
   "display_name": "Python 3 (ipykernel)",
   "language": "python",
   "name": "python3"
  },
  "language_info": {
   "codemirror_mode": {
    "name": "ipython",
    "version": 3
   },
   "file_extension": ".py",
   "mimetype": "text/x-python",
   "name": "python",
   "nbconvert_exporter": "python",
   "pygments_lexer": "ipython3",
   "version": "3.11.3"
  }
 },
 "nbformat": 4,
 "nbformat_minor": 5
}
